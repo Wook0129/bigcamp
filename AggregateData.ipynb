{
 "cells": [
  {
   "cell_type": "markdown",
   "metadata": {},
   "source": [
    "## 수작업으로 변수 선택. \n",
    "### 명세서가 부실한 변수와 NA가 많은 변수는 제거"
   ]
  },
  {
   "cell_type": "code",
   "execution_count": 1,
   "metadata": {
    "collapsed": false
   },
   "outputs": [],
   "source": [
    "import pandas as pd\n",
    "import numpy as np\n",
    "from tqdm import tqdm"
   ]
  },
  {
   "cell_type": "markdown",
   "metadata": {},
   "source": [
    "### 분기별 사고/사람/차량으로 각각 데이터 통합"
   ]
  },
  {
   "cell_type": "code",
   "execution_count": 2,
   "metadata": {
    "collapsed": false
   },
   "outputs": [],
   "source": [
    "# 데이터 load하고 append하는데 다소 시간이 소요될 수 있습니다.\n",
    "accident_data = []\n",
    "person_data = []\n",
    "vehicle_data = []\n",
    "for q in [1,2,3,4]:\n",
    "    accident_data.append(pd.read_excel('data/Crash_Qtr0'+str(q)+'_2015.xlsx', sheetname = 0))\n",
    "    person_data.append(pd.read_excel('data/Crash_Qtr0'+str(q)+'_2015.xlsx', sheetname = 1))\n",
    "    vehicle_data.append(pd.read_excel('data/Crash_Qtr0'+str(q)+'_2015.xlsx', sheetname = 2))"
   ]
  },
  {
   "cell_type": "code",
   "execution_count": 3,
   "metadata": {
    "collapsed": false
   },
   "outputs": [],
   "source": [
    "accidents = pd.concat(accident_data).reset_index(drop=True)\n",
    "persons = pd.concat(person_data).reset_index(drop=True)\n",
    "vehicles = pd.concat(vehicle_data).reset_index(drop=True)"
   ]
  },
  {
   "cell_type": "markdown",
   "metadata": {},
   "source": [
    "#### 각 영역별 데이터 타입 확인"
   ]
  },
  {
   "cell_type": "code",
   "execution_count": 4,
   "metadata": {
    "collapsed": false,
    "scrolled": true
   },
   "outputs": [
    {
     "data": {
      "text/plain": [
       "ACC_DATE                object\n",
       "ACC_TIME                object\n",
       "AGENCY_CODE             object\n",
       "AREA_CODE               object\n",
       "COLLISION_TYPE_CODE      int64\n",
       "COUNTY_NO              float64\n",
       "C_M_ZONE_FLAG           object\n",
       "DISTANCE               float64\n",
       "DISTANCE_DIR_FLAG       object\n",
       "FEET_MILES_FLAG         object\n",
       "FIX_OBJ_CODE           float64\n",
       "HARM_EVENT_CODE1       float64\n",
       "HARM_EVENT_CODE2       float64\n",
       "JUNCTION_CODE          float64\n",
       "LANE_CODE              float64\n",
       "LATITUDE               float64\n",
       "LIGHT_CODE             float64\n",
       "LOC_CODE                object\n",
       "LOGMILE_DIR_FLAG        object\n",
       "LOG_MILE               float64\n",
       "LONGITUDE              float64\n",
       "MAINROAD_NAME           object\n",
       "MUNI_CODE              float64\n",
       "RD_COND_CODE           float64\n",
       "RD_DIV_CODE            float64\n",
       "REFERENCE_NO           float64\n",
       "REFERENCE_ROAD_NAME     object\n",
       "REFERENCE_SUFFIX        object\n",
       "REFERENCE_TYPE_CODE     object\n",
       "REPORT_NO               object\n",
       "ROUTE_TYPE_CODE         object\n",
       "RTE_NO                 float64\n",
       "RTE_SUFFIX              object\n",
       "SIGNAL_FLAG             object\n",
       "SURF_COND_CODE         float64\n",
       "WEATHER_CODE           float64\n",
       "dtype: object"
      ]
     },
     "execution_count": 4,
     "metadata": {},
     "output_type": "execute_result"
    }
   ],
   "source": [
    "accidents.dtypes"
   ]
  },
  {
   "cell_type": "code",
   "execution_count": 5,
   "metadata": {
    "collapsed": false,
    "scrolled": true
   },
   "outputs": [
    {
     "data": {
      "text/plain": [
       "ALCOHOL_TESTTYPE_CODE    float64\n",
       "ALCOHOL_TEST_CODE        float64\n",
       "BAC_CODE                 float64\n",
       "CDL_FLAG                  object\n",
       "CLASS                     object\n",
       "CONDITION_CODE           float64\n",
       "DATE_OF_BIRTH             object\n",
       "DRUG_TESTRESULT_CODE      object\n",
       "DRUG_TEST_CODE           float64\n",
       "EJECT_CODE               float64\n",
       "EMS_UNIT_LABEL            object\n",
       "EQUIP_PROB_CODE          float64\n",
       "FAULT_FLAG                object\n",
       "INJ_SEVER_CODE             int64\n",
       "LICENSE_STATE_CODE        object\n",
       "MOVEMENT_CODE            float64\n",
       "OCC_SEAT_POS_CODE        float64\n",
       "PED_LOCATION_CODE        float64\n",
       "PED_OBEY_CODE            float64\n",
       "PED_TYPE_CODE            float64\n",
       "PED_VISIBLE_CODE         float64\n",
       "PERSON_ID                 object\n",
       "PERSON_TYPE               object\n",
       "REPORT_NO                 object\n",
       "SAF_EQUIP_CODE           float64\n",
       "SEX_CODE                  object\n",
       "VEHICLE_ID                object\n",
       "dtype: object"
      ]
     },
     "execution_count": 5,
     "metadata": {},
     "output_type": "execute_result"
    }
   ],
   "source": [
    "persons.dtypes"
   ]
  },
  {
   "cell_type": "code",
   "execution_count": 6,
   "metadata": {
    "collapsed": false,
    "scrolled": true
   },
   "outputs": [
    {
     "data": {
      "text/plain": [
       "AREA_DAMAGED_CODE1           float64\n",
       "AREA_DAMAGED_CODE2           float64\n",
       "AREA_DAMAGED_CODE3           float64\n",
       "AREA_DAMAGED_CODE_IMP1       float64\n",
       "AREA_DAMAGED_CODE_MAIN       float64\n",
       "BODY_TYPE_CODE               float64\n",
       "COMMERCIAL_FLAG               object\n",
       "CONTI_DIRECTION_CODE          object\n",
       "CV_BODY_TYPE_CODE            float64\n",
       "DAMAGE_CODE                    int64\n",
       "DRIVERLESS_FLAG               object\n",
       "FIRE_FLAG                     object\n",
       "GOING_DIRECTION_CODE          object\n",
       "GVW_CODE                     float64\n",
       "HARM_EVENT_CODE              float64\n",
       "HAZMAT_SPILL_FLAG             object\n",
       "HIT_AND_RUN_FLAG              object\n",
       "HZM_NUM                       object\n",
       "MOVEMENT_CODE                float64\n",
       "NUM_AXLES                    float64\n",
       "PARKED_FLAG                   object\n",
       "REPORT_NO                     object\n",
       "SPEED_LIMIT                  float64\n",
       "TOWED_AWAY_FLAG               object\n",
       "TOWED_VEHICLE_CONFIG_CODE    float64\n",
       "VEHICLE_ID                    object\n",
       "VEH_MAKE                      object\n",
       "VEH_MODEL                     object\n",
       "VEH_YEAR                     float64\n",
       "VIN_NO                        object\n",
       "dtype: object"
      ]
     },
     "execution_count": 6,
     "metadata": {},
     "output_type": "execute_result"
    }
   ],
   "source": [
    "vehicles.dtypes"
   ]
  },
  {
   "cell_type": "markdown",
   "metadata": {},
   "source": [
    "#### 차량과 사람데이터에서 동일한 column name인 MOVEMENT_CODE 존재\n",
    "#### 다음 단계에서 불필요한 변수를 제거하고자 할 때, column name이 중복되어 미리 제거"
   ]
  },
  {
   "cell_type": "code",
   "execution_count": 7,
   "metadata": {
    "collapsed": false
   },
   "outputs": [],
   "source": [
    "persons.drop(\"MOVEMENT_CODE\", axis=1, inplace=True)"
   ]
  },
  {
   "cell_type": "markdown",
   "metadata": {},
   "source": [
    "### 사고/사람/차량 데이터 통합(merge)"
   ]
  },
  {
   "cell_type": "code",
   "execution_count": 8,
   "metadata": {
    "collapsed": false
   },
   "outputs": [],
   "source": [
    "merged_data = pd.merge(persons, accidents, how='inner',on='REPORT_NO')\n",
    "merged_data = pd.merge(merged_data, vehicles, how='left',on=\"VEHICLE_ID\")\n",
    "merged_data.drop('REPORT_NO_y', axis=1, inplace=True)\n",
    "merged_data.rename(columns = {'REPORT_NO_x' : 'REPORT_NO'}, inplace = True)"
   ]
  },
  {
   "cell_type": "markdown",
   "metadata": {},
   "source": [
    "### 분석에 필요하다고 판단되는 변수만 남김"
   ]
  },
  {
   "cell_type": "code",
   "execution_count": 9,
   "metadata": {
    "collapsed": true
   },
   "outputs": [],
   "source": [
    "necessary_columns_for_analysis = ['CDL_FLAG', 'CONDITION_CODE', 'EQUIP_PROB_CODE', 'FAULT_FLAG',\n",
    "       'INJ_SEVER_CODE', 'PERSON_ID', 'PERSON_TYPE', 'REPORT_NO',\n",
    "       'SAF_EQUIP_CODE', 'SEX_CODE', 'VEHICLE_ID', 'COLLISION_TYPE_CODE',\n",
    "       'C_M_ZONE_FLAG', 'JUNCTION_CODE', 'LANE_CODE', 'LIGHT_CODE',\n",
    "       'RD_COND_CODE', 'RD_DIV_CODE', 'SURF_COND_CODE', 'WEATHER_CODE',\n",
    "       'AREA_DAMAGED_CODE_MAIN', 'BODY_TYPE_CODE', 'DAMAGE_CODE',\n",
    "       'HIT_AND_RUN_FLAG', 'MOVEMENT_CODE', 'ACC_DATE', 'ACC_TIME', 'DATE_OF_BIRTH']"
   ]
  },
  {
   "cell_type": "code",
   "execution_count": 10,
   "metadata": {
    "collapsed": false
   },
   "outputs": [],
   "source": [
    "merged_data = merged_data[necessary_columns_for_analysis]"
   ]
  },
  {
   "cell_type": "markdown",
   "metadata": {},
   "source": [
    "## 사고 발생 일시 관련 변수 통합"
   ]
  },
  {
   "cell_type": "code",
   "execution_count": 11,
   "metadata": {
    "collapsed": false
   },
   "outputs": [],
   "source": [
    "merged_data['TIME'] = pd.to_datetime(merged_data.ACC_DATE + ' ' + merged_data.ACC_TIME)\n",
    "merged_data.drop('ACC_DATE', axis=1, inplace=True)\n",
    "merged_data.drop('ACC_TIME', axis=1, inplace=True)"
   ]
  },
  {
   "cell_type": "markdown",
   "metadata": {},
   "source": [
    "## 나이 변수 생성. (Noise 제거를 위해 16세 이상, 90세 이하만 분석)"
   ]
  },
  {
   "cell_type": "code",
   "execution_count": 12,
   "metadata": {
    "collapsed": false
   },
   "outputs": [],
   "source": [
    "merged_data['AGE'] = merged_data.DATE_OF_BIRTH.apply(lambda x : 100 - int(str(x)[-2:]) + 15 if type(x) == str else x)\n",
    "merged_data = merged_data.loc[np.array(merged_data.AGE >= 16) & np.array(merged_data.AGE <= 90)]\n",
    "merged_data.drop('DATE_OF_BIRTH', axis=1, inplace=True)"
   ]
  },
  {
   "cell_type": "code",
   "execution_count": 13,
   "metadata": {
    "collapsed": false
   },
   "outputs": [
    {
     "data": {
      "text/plain": [
       "(200118, 27)"
      ]
     },
     "execution_count": 13,
     "metadata": {},
     "output_type": "execute_result"
    }
   ],
   "source": [
    "merged_data.shape"
   ]
  },
  {
   "cell_type": "markdown",
   "metadata": {},
   "source": [
    "## NA가 포함된 column, 해당 변수로 의미를 알 수 없는 변수(0,88,99,U) 제거"
   ]
  },
  {
   "cell_type": "code",
   "execution_count": 14,
   "metadata": {
    "collapsed": true
   },
   "outputs": [],
   "source": [
    "merged_data = merged_data.dropna()\n",
    "merged_data = merged_data.reset_index(drop = True)\n",
    "\n",
    "cols = merged_data.columns"
   ]
  },
  {
   "cell_type": "code",
   "execution_count": 33,
   "metadata": {
    "collapsed": false
   },
   "outputs": [
    {
     "name": "stderr",
     "output_type": "stream",
     "text": [
      "C:\\Users\\HyoChang\\Anaconda3\\lib\\site-packages\\ipykernel\\__main__.py:5: DeprecationWarning: elementwise == comparison failed; this will raise an error in the future.\n"
     ]
    }
   ],
   "source": [
    "code_list = []\n",
    "cate_list = []\n",
    "for col_index in range(len(cols)):\n",
    "    for i in merged_data[cols[col_index]].unique():\n",
    "        if i in [0,88,99]:\n",
    "            code_list.append(col_index)\n",
    "            break\n",
    "        if i == 'U':\n",
    "            cate_list.append(col_index)\n",
    "            break"
   ]
  },
  {
   "cell_type": "code",
   "execution_count": 45,
   "metadata": {
    "collapsed": true
   },
   "outputs": [],
   "source": [
    "index_0 = np.sum(merged_data[code_list] == 0, axis=1) != 0\n",
    "index_88 = np.sum(merged_data[code_list] == 88, axis=1) != 0\n",
    "index_99 = np.sum(merged_data[code_list] == 99, axis=1) != 0\n",
    "index_U = np.sum(merged_data[cate_list] == 'U',axis = 1) != 0"
   ]
  },
  {
   "cell_type": "code",
   "execution_count": 46,
   "metadata": {
    "collapsed": false
   },
   "outputs": [],
   "source": [
    "i = 0\n",
    "del_list = []\n",
    "for x,y,z,w in zip(index_0, index_88, index_99, index_U):\n",
    "    if x or y or z or w:\n",
    "        del_list.append(i)\n",
    "    i += 1"
   ]
  },
  {
   "cell_type": "code",
   "execution_count": 47,
   "metadata": {
    "collapsed": false
   },
   "outputs": [],
   "source": [
    "merged_data = merged_data.drop(merged_data.index[del_list])\n",
    "merged_data = merged_data.reset_index(drop=True)"
   ]
  },
  {
   "cell_type": "markdown",
   "metadata": {},
   "source": [
    "#### CODE BOOK에 JUNCTION_CODE 11.04이 누락되어 있어서 제거"
   ]
  },
  {
   "cell_type": "code",
   "execution_count": 48,
   "metadata": {
    "collapsed": true
   },
   "outputs": [],
   "source": [
    "del_junc_code_11 = list(merged_data.loc[merged_data['JUNCTION_CODE']==11.04].index)"
   ]
  },
  {
   "cell_type": "code",
   "execution_count": 49,
   "metadata": {
    "collapsed": false
   },
   "outputs": [],
   "source": [
    "merged_data = merged_data.drop(merged_data.index[del_junc_code_11])\n",
    "merged_data = merged_data.reset_index(drop=True)"
   ]
  },
  {
   "cell_type": "code",
   "execution_count": 50,
   "metadata": {
    "collapsed": false
   },
   "outputs": [
    {
     "data": {
      "text/plain": [
       "(47400, 27)"
      ]
     },
     "execution_count": 50,
     "metadata": {},
     "output_type": "execute_result"
    }
   ],
   "source": [
    "merged_data.shape"
   ]
  },
  {
   "cell_type": "markdown",
   "metadata": {},
   "source": [
    "## code화 되어있는 변수를 변수값 코드북 참조해서 전환\n",
    "#### ex) 기존에 LIGHT_CODE column의 값이 3이었다면 이를 Dark Lights On으로 변경"
   ]
  },
  {
   "cell_type": "code",
   "execution_count": 51,
   "metadata": {
    "collapsed": true
   },
   "outputs": [],
   "source": [
    "desc = pd.read_csv('desc.csv', header=None)"
   ]
  },
  {
   "cell_type": "code",
   "execution_count": 52,
   "metadata": {
    "collapsed": false
   },
   "outputs": [
    {
     "data": {
      "text/html": [
       "<div>\n",
       "<table border=\"1\" class=\"dataframe\">\n",
       "  <thead>\n",
       "    <tr style=\"text-align: right;\">\n",
       "      <th></th>\n",
       "      <th>0</th>\n",
       "      <th>1</th>\n",
       "      <th>2</th>\n",
       "    </tr>\n",
       "  </thead>\n",
       "  <tbody>\n",
       "    <tr>\n",
       "      <th>0</th>\n",
       "      <td>LIGHT_CODE</td>\n",
       "      <td>0.00</td>\n",
       "      <td>Not Applicable</td>\n",
       "    </tr>\n",
       "    <tr>\n",
       "      <th>1</th>\n",
       "      <td>LIGHT_CODE</td>\n",
       "      <td>1.00</td>\n",
       "      <td>Daylight</td>\n",
       "    </tr>\n",
       "    <tr>\n",
       "      <th>2</th>\n",
       "      <td>LIGHT_CODE</td>\n",
       "      <td>3.00</td>\n",
       "      <td>Dark Lights On</td>\n",
       "    </tr>\n",
       "    <tr>\n",
       "      <th>3</th>\n",
       "      <td>LIGHT_CODE</td>\n",
       "      <td>4.00</td>\n",
       "      <td>Dark No Lights</td>\n",
       "    </tr>\n",
       "    <tr>\n",
       "      <th>4</th>\n",
       "      <td>LIGHT_CODE</td>\n",
       "      <td>5.02</td>\n",
       "      <td>Dawn</td>\n",
       "    </tr>\n",
       "    <tr>\n",
       "      <th>5</th>\n",
       "      <td>LIGHT_CODE</td>\n",
       "      <td>6.02</td>\n",
       "      <td>Dusk</td>\n",
       "    </tr>\n",
       "    <tr>\n",
       "      <th>6</th>\n",
       "      <td>LIGHT_CODE</td>\n",
       "      <td>7.88</td>\n",
       "      <td>Dark - Unknown Lighting</td>\n",
       "    </tr>\n",
       "    <tr>\n",
       "      <th>7</th>\n",
       "      <td>LIGHT_CODE</td>\n",
       "      <td>88.00</td>\n",
       "      <td>Other</td>\n",
       "    </tr>\n",
       "    <tr>\n",
       "      <th>8</th>\n",
       "      <td>LIGHT_CODE</td>\n",
       "      <td>99.00</td>\n",
       "      <td>Unknown</td>\n",
       "    </tr>\n",
       "    <tr>\n",
       "      <th>9</th>\n",
       "      <td>JUNCTION_CODE</td>\n",
       "      <td>0.00</td>\n",
       "      <td>Not Applicable</td>\n",
       "    </tr>\n",
       "    <tr>\n",
       "      <th>10</th>\n",
       "      <td>JUNCTION_CODE</td>\n",
       "      <td>1.00</td>\n",
       "      <td>Non Intersection</td>\n",
       "    </tr>\n",
       "    <tr>\n",
       "      <th>11</th>\n",
       "      <td>JUNCTION_CODE</td>\n",
       "      <td>2.00</td>\n",
       "      <td>Intersection</td>\n",
       "    </tr>\n",
       "    <tr>\n",
       "      <th>12</th>\n",
       "      <td>JUNCTION_CODE</td>\n",
       "      <td>3.00</td>\n",
       "      <td>Intersection Related</td>\n",
       "    </tr>\n",
       "    <tr>\n",
       "      <th>13</th>\n",
       "      <td>JUNCTION_CODE</td>\n",
       "      <td>4.00</td>\n",
       "      <td>Driveway Alley Access Related</td>\n",
       "    </tr>\n",
       "    <tr>\n",
       "      <th>14</th>\n",
       "      <td>JUNCTION_CODE</td>\n",
       "      <td>5.01</td>\n",
       "      <td>Interchange Related</td>\n",
       "    </tr>\n",
       "    <tr>\n",
       "      <th>15</th>\n",
       "      <td>JUNCTION_CODE</td>\n",
       "      <td>6.01</td>\n",
       "      <td>Crossover Related</td>\n",
       "    </tr>\n",
       "    <tr>\n",
       "      <th>16</th>\n",
       "      <td>JUNCTION_CODE</td>\n",
       "      <td>7.01</td>\n",
       "      <td>Railway Grade Crossing</td>\n",
       "    </tr>\n",
       "    <tr>\n",
       "      <th>17</th>\n",
       "      <td>JUNCTION_CODE</td>\n",
       "      <td>8.04</td>\n",
       "      <td>Residential Driveway</td>\n",
       "    </tr>\n",
       "    <tr>\n",
       "      <th>18</th>\n",
       "      <td>JUNCTION_CODE</td>\n",
       "      <td>9.04</td>\n",
       "      <td>Commercial Driveway</td>\n",
       "    </tr>\n",
       "    <tr>\n",
       "      <th>19</th>\n",
       "      <td>JUNCTION_CODE</td>\n",
       "      <td>10.04</td>\n",
       "      <td>Alley</td>\n",
       "    </tr>\n",
       "    <tr>\n",
       "      <th>20</th>\n",
       "      <td>COLLISION_TYPE_CODE</td>\n",
       "      <td>0.00</td>\n",
       "      <td>Not Applicable</td>\n",
       "    </tr>\n",
       "    <tr>\n",
       "      <th>21</th>\n",
       "      <td>COLLISION_TYPE_CODE</td>\n",
       "      <td>1.00</td>\n",
       "      <td>Head On</td>\n",
       "    </tr>\n",
       "    <tr>\n",
       "      <th>22</th>\n",
       "      <td>COLLISION_TYPE_CODE</td>\n",
       "      <td>2.00</td>\n",
       "      <td>Head On Left Turn</td>\n",
       "    </tr>\n",
       "    <tr>\n",
       "      <th>23</th>\n",
       "      <td>COLLISION_TYPE_CODE</td>\n",
       "      <td>3.00</td>\n",
       "      <td>Same Direction Rear End</td>\n",
       "    </tr>\n",
       "    <tr>\n",
       "      <th>24</th>\n",
       "      <td>COLLISION_TYPE_CODE</td>\n",
       "      <td>4.00</td>\n",
       "      <td>Same Direction Rear End Right Turn</td>\n",
       "    </tr>\n",
       "    <tr>\n",
       "      <th>25</th>\n",
       "      <td>COLLISION_TYPE_CODE</td>\n",
       "      <td>5.00</td>\n",
       "      <td>Same Direction Rear End Left Turn</td>\n",
       "    </tr>\n",
       "    <tr>\n",
       "      <th>26</th>\n",
       "      <td>COLLISION_TYPE_CODE</td>\n",
       "      <td>6.00</td>\n",
       "      <td>Opposite Direction Sideswipe</td>\n",
       "    </tr>\n",
       "    <tr>\n",
       "      <th>27</th>\n",
       "      <td>COLLISION_TYPE_CODE</td>\n",
       "      <td>7.00</td>\n",
       "      <td>Same Direction Sideswipe</td>\n",
       "    </tr>\n",
       "    <tr>\n",
       "      <th>28</th>\n",
       "      <td>COLLISION_TYPE_CODE</td>\n",
       "      <td>8.00</td>\n",
       "      <td>Same Direction Right Turn</td>\n",
       "    </tr>\n",
       "    <tr>\n",
       "      <th>29</th>\n",
       "      <td>COLLISION_TYPE_CODE</td>\n",
       "      <td>9.00</td>\n",
       "      <td>Same Direction Left Turn</td>\n",
       "    </tr>\n",
       "    <tr>\n",
       "      <th>...</th>\n",
       "      <td>...</td>\n",
       "      <td>...</td>\n",
       "      <td>...</td>\n",
       "    </tr>\n",
       "    <tr>\n",
       "      <th>208</th>\n",
       "      <td>BODY_TYPE_CODE</td>\n",
       "      <td>27.88</td>\n",
       "      <td>Snowmobile</td>\n",
       "    </tr>\n",
       "    <tr>\n",
       "      <th>209</th>\n",
       "      <td>BODY_TYPE_CODE</td>\n",
       "      <td>88.00</td>\n",
       "      <td>Other</td>\n",
       "    </tr>\n",
       "    <tr>\n",
       "      <th>210</th>\n",
       "      <td>BODY_TYPE_CODE</td>\n",
       "      <td>99.00</td>\n",
       "      <td>Unknown</td>\n",
       "    </tr>\n",
       "    <tr>\n",
       "      <th>211</th>\n",
       "      <td>AREA_DAMAGED_CODE_MAIN</td>\n",
       "      <td>0.00</td>\n",
       "      <td>Not Applicable</td>\n",
       "    </tr>\n",
       "    <tr>\n",
       "      <th>212</th>\n",
       "      <td>AREA_DAMAGED_CODE_MAIN</td>\n",
       "      <td>1.00</td>\n",
       "      <td>One o'clock</td>\n",
       "    </tr>\n",
       "    <tr>\n",
       "      <th>213</th>\n",
       "      <td>AREA_DAMAGED_CODE_MAIN</td>\n",
       "      <td>2.00</td>\n",
       "      <td>Two o'clock</td>\n",
       "    </tr>\n",
       "    <tr>\n",
       "      <th>214</th>\n",
       "      <td>AREA_DAMAGED_CODE_MAIN</td>\n",
       "      <td>3.00</td>\n",
       "      <td>Three o'clock</td>\n",
       "    </tr>\n",
       "    <tr>\n",
       "      <th>215</th>\n",
       "      <td>AREA_DAMAGED_CODE_MAIN</td>\n",
       "      <td>4.00</td>\n",
       "      <td>Four o'clock</td>\n",
       "    </tr>\n",
       "    <tr>\n",
       "      <th>216</th>\n",
       "      <td>AREA_DAMAGED_CODE_MAIN</td>\n",
       "      <td>5.00</td>\n",
       "      <td>Five o'clock</td>\n",
       "    </tr>\n",
       "    <tr>\n",
       "      <th>217</th>\n",
       "      <td>AREA_DAMAGED_CODE_MAIN</td>\n",
       "      <td>6.00</td>\n",
       "      <td>Six o'clock</td>\n",
       "    </tr>\n",
       "    <tr>\n",
       "      <th>218</th>\n",
       "      <td>AREA_DAMAGED_CODE_MAIN</td>\n",
       "      <td>7.00</td>\n",
       "      <td>Seven o'clock</td>\n",
       "    </tr>\n",
       "    <tr>\n",
       "      <th>219</th>\n",
       "      <td>AREA_DAMAGED_CODE_MAIN</td>\n",
       "      <td>8.00</td>\n",
       "      <td>Eight o'clock</td>\n",
       "    </tr>\n",
       "    <tr>\n",
       "      <th>220</th>\n",
       "      <td>AREA_DAMAGED_CODE_MAIN</td>\n",
       "      <td>9.00</td>\n",
       "      <td>Nine o'clock</td>\n",
       "    </tr>\n",
       "    <tr>\n",
       "      <th>221</th>\n",
       "      <td>AREA_DAMAGED_CODE_MAIN</td>\n",
       "      <td>10.00</td>\n",
       "      <td>Ten o'clock</td>\n",
       "    </tr>\n",
       "    <tr>\n",
       "      <th>222</th>\n",
       "      <td>AREA_DAMAGED_CODE_MAIN</td>\n",
       "      <td>11.00</td>\n",
       "      <td>Eleven o'clock</td>\n",
       "    </tr>\n",
       "    <tr>\n",
       "      <th>223</th>\n",
       "      <td>AREA_DAMAGED_CODE_MAIN</td>\n",
       "      <td>12.00</td>\n",
       "      <td>Twelve o'clock</td>\n",
       "    </tr>\n",
       "    <tr>\n",
       "      <th>224</th>\n",
       "      <td>AREA_DAMAGED_CODE_MAIN</td>\n",
       "      <td>13.00</td>\n",
       "      <td>Left Side 3rd Quarter</td>\n",
       "    </tr>\n",
       "    <tr>\n",
       "      <th>225</th>\n",
       "      <td>AREA_DAMAGED_CODE_MAIN</td>\n",
       "      <td>14.00</td>\n",
       "      <td>Left Side 2nd Quarter</td>\n",
       "    </tr>\n",
       "    <tr>\n",
       "      <th>226</th>\n",
       "      <td>AREA_DAMAGED_CODE_MAIN</td>\n",
       "      <td>15.00</td>\n",
       "      <td>Left Side Front Quarter</td>\n",
       "    </tr>\n",
       "    <tr>\n",
       "      <th>227</th>\n",
       "      <td>AREA_DAMAGED_CODE_MAIN</td>\n",
       "      <td>16.00</td>\n",
       "      <td>Front Left Corner</td>\n",
       "    </tr>\n",
       "    <tr>\n",
       "      <th>228</th>\n",
       "      <td>AREA_DAMAGED_CODE_MAIN</td>\n",
       "      <td>17.00</td>\n",
       "      <td>Hood</td>\n",
       "    </tr>\n",
       "    <tr>\n",
       "      <th>229</th>\n",
       "      <td>AREA_DAMAGED_CODE_MAIN</td>\n",
       "      <td>18.00</td>\n",
       "      <td>Roof Top</td>\n",
       "    </tr>\n",
       "    <tr>\n",
       "      <th>230</th>\n",
       "      <td>AREA_DAMAGED_CODE_MAIN</td>\n",
       "      <td>19.00</td>\n",
       "      <td>Trunk</td>\n",
       "    </tr>\n",
       "    <tr>\n",
       "      <th>231</th>\n",
       "      <td>AREA_DAMAGED_CODE_MAIN</td>\n",
       "      <td>20.00</td>\n",
       "      <td>Windshield</td>\n",
       "    </tr>\n",
       "    <tr>\n",
       "      <th>232</th>\n",
       "      <td>AREA_DAMAGED_CODE_MAIN</td>\n",
       "      <td>21.00</td>\n",
       "      <td>Windows</td>\n",
       "    </tr>\n",
       "    <tr>\n",
       "      <th>233</th>\n",
       "      <td>AREA_DAMAGED_CODE_MAIN</td>\n",
       "      <td>22.00</td>\n",
       "      <td>Underside</td>\n",
       "    </tr>\n",
       "    <tr>\n",
       "      <th>234</th>\n",
       "      <td>AREA_DAMAGED_CODE_MAIN</td>\n",
       "      <td>23.00</td>\n",
       "      <td>Overturn Overall</td>\n",
       "    </tr>\n",
       "    <tr>\n",
       "      <th>235</th>\n",
       "      <td>AREA_DAMAGED_CODE_MAIN</td>\n",
       "      <td>88.00</td>\n",
       "      <td>Other</td>\n",
       "    </tr>\n",
       "    <tr>\n",
       "      <th>236</th>\n",
       "      <td>AREA_DAMAGED_CODE_MAIN</td>\n",
       "      <td>98.00</td>\n",
       "      <td>Non-collision</td>\n",
       "    </tr>\n",
       "    <tr>\n",
       "      <th>237</th>\n",
       "      <td>AREA_DAMAGED_CODE_MAIN</td>\n",
       "      <td>99.00</td>\n",
       "      <td>Unknown</td>\n",
       "    </tr>\n",
       "  </tbody>\n",
       "</table>\n",
       "<p>238 rows × 3 columns</p>\n",
       "</div>"
      ],
      "text/plain": [
       "                          0      1                                   2\n",
       "0                LIGHT_CODE   0.00                      Not Applicable\n",
       "1                LIGHT_CODE   1.00                            Daylight\n",
       "2                LIGHT_CODE   3.00                      Dark Lights On\n",
       "3                LIGHT_CODE   4.00                      Dark No Lights\n",
       "4                LIGHT_CODE   5.02                                Dawn\n",
       "5                LIGHT_CODE   6.02                                Dusk\n",
       "6                LIGHT_CODE   7.88             Dark - Unknown Lighting\n",
       "7                LIGHT_CODE  88.00                               Other\n",
       "8                LIGHT_CODE  99.00                             Unknown\n",
       "9             JUNCTION_CODE   0.00                      Not Applicable\n",
       "10            JUNCTION_CODE   1.00                    Non Intersection\n",
       "11            JUNCTION_CODE   2.00                        Intersection\n",
       "12            JUNCTION_CODE   3.00                Intersection Related\n",
       "13            JUNCTION_CODE   4.00       Driveway Alley Access Related\n",
       "14            JUNCTION_CODE   5.01                 Interchange Related\n",
       "15            JUNCTION_CODE   6.01                   Crossover Related\n",
       "16            JUNCTION_CODE   7.01              Railway Grade Crossing\n",
       "17            JUNCTION_CODE   8.04                Residential Driveway\n",
       "18            JUNCTION_CODE   9.04                 Commercial Driveway\n",
       "19            JUNCTION_CODE  10.04                               Alley\n",
       "20      COLLISION_TYPE_CODE   0.00                      Not Applicable\n",
       "21      COLLISION_TYPE_CODE   1.00                             Head On\n",
       "22      COLLISION_TYPE_CODE   2.00                   Head On Left Turn\n",
       "23      COLLISION_TYPE_CODE   3.00             Same Direction Rear End\n",
       "24      COLLISION_TYPE_CODE   4.00  Same Direction Rear End Right Turn\n",
       "25      COLLISION_TYPE_CODE   5.00   Same Direction Rear End Left Turn\n",
       "26      COLLISION_TYPE_CODE   6.00        Opposite Direction Sideswipe\n",
       "27      COLLISION_TYPE_CODE   7.00            Same Direction Sideswipe\n",
       "28      COLLISION_TYPE_CODE   8.00           Same Direction Right Turn\n",
       "29      COLLISION_TYPE_CODE   9.00            Same Direction Left Turn\n",
       "..                      ...    ...                                 ...\n",
       "208          BODY_TYPE_CODE  27.88                          Snowmobile\n",
       "209          BODY_TYPE_CODE  88.00                               Other\n",
       "210          BODY_TYPE_CODE  99.00                             Unknown\n",
       "211  AREA_DAMAGED_CODE_MAIN   0.00                      Not Applicable\n",
       "212  AREA_DAMAGED_CODE_MAIN   1.00                         One o'clock\n",
       "213  AREA_DAMAGED_CODE_MAIN   2.00                         Two o'clock\n",
       "214  AREA_DAMAGED_CODE_MAIN   3.00                       Three o'clock\n",
       "215  AREA_DAMAGED_CODE_MAIN   4.00                        Four o'clock\n",
       "216  AREA_DAMAGED_CODE_MAIN   5.00                        Five o'clock\n",
       "217  AREA_DAMAGED_CODE_MAIN   6.00                         Six o'clock\n",
       "218  AREA_DAMAGED_CODE_MAIN   7.00                       Seven o'clock\n",
       "219  AREA_DAMAGED_CODE_MAIN   8.00                       Eight o'clock\n",
       "220  AREA_DAMAGED_CODE_MAIN   9.00                        Nine o'clock\n",
       "221  AREA_DAMAGED_CODE_MAIN  10.00                         Ten o'clock\n",
       "222  AREA_DAMAGED_CODE_MAIN  11.00                      Eleven o'clock\n",
       "223  AREA_DAMAGED_CODE_MAIN  12.00                      Twelve o'clock\n",
       "224  AREA_DAMAGED_CODE_MAIN  13.00               Left Side 3rd Quarter\n",
       "225  AREA_DAMAGED_CODE_MAIN  14.00               Left Side 2nd Quarter\n",
       "226  AREA_DAMAGED_CODE_MAIN  15.00             Left Side Front Quarter\n",
       "227  AREA_DAMAGED_CODE_MAIN  16.00                   Front Left Corner\n",
       "228  AREA_DAMAGED_CODE_MAIN  17.00                                Hood\n",
       "229  AREA_DAMAGED_CODE_MAIN  18.00                            Roof Top\n",
       "230  AREA_DAMAGED_CODE_MAIN  19.00                               Trunk\n",
       "231  AREA_DAMAGED_CODE_MAIN  20.00                          Windshield\n",
       "232  AREA_DAMAGED_CODE_MAIN  21.00                             Windows\n",
       "233  AREA_DAMAGED_CODE_MAIN  22.00                           Underside\n",
       "234  AREA_DAMAGED_CODE_MAIN  23.00                    Overturn Overall\n",
       "235  AREA_DAMAGED_CODE_MAIN  88.00                               Other\n",
       "236  AREA_DAMAGED_CODE_MAIN  98.00                       Non-collision\n",
       "237  AREA_DAMAGED_CODE_MAIN  99.00                             Unknown\n",
       "\n",
       "[238 rows x 3 columns]"
      ]
     },
     "execution_count": 52,
     "metadata": {},
     "output_type": "execute_result"
    }
   ],
   "source": [
    "desc"
   ]
  },
  {
   "cell_type": "code",
   "execution_count": 53,
   "metadata": {
    "collapsed": false
   },
   "outputs": [],
   "source": [
    "# column namep에서 'CODE'가 포함된 경우 변환 필요. (SEX_CODE제외)\n",
    "cols = merged_data.columns\n",
    "change_list = []\n",
    "for i in range(len(merged_data.columns)):\n",
    "    if \"CODE\" in cols[i]:\n",
    "        if cols[i] != \"SEX_CODE\":\n",
    "            change_list.append(cols[i])"
   ]
  },
  {
   "cell_type": "code",
   "execution_count": 54,
   "metadata": {
    "collapsed": true
   },
   "outputs": [],
   "source": [
    "column_and_code = []\n",
    "desc_list = []\n",
    "for i in range(len(desc)):\n",
    "    row = desc.loc[i]\n",
    "    column_and_code.append(str(row[0])+'_'+str(row[1]))\n",
    "    desc_list.append(str(row[2]))    "
   ]
  },
  {
   "cell_type": "code",
   "execution_count": 56,
   "metadata": {
    "collapsed": false
   },
   "outputs": [],
   "source": [
    "dict_ = {}\n",
    "for i in range(len(column_and_code)):\n",
    "    dict_[column_and_code[i]] = desc_list[i]"
   ]
  },
  {
   "cell_type": "code",
   "execution_count": 57,
   "metadata": {
    "collapsed": true
   },
   "outputs": [],
   "source": [
    "def code2desc(column_name, code):\n",
    "    key = str(column_name)+'_'+str(code)\n",
    "    return dict_[key]"
   ]
  },
  {
   "cell_type": "code",
   "execution_count": 59,
   "metadata": {
    "collapsed": false
   },
   "outputs": [
    {
     "name": "stderr",
     "output_type": "stream",
     "text": [
      "100%|██████████████████████████████████████████████████████████████████████████████████| 16/16 [00:00<00:00, 19.33it/s]\n"
     ]
    }
   ],
   "source": [
    "for i in tqdm(change_list):\n",
    "    merged_data[i] = merged_data[i].apply(lambda x: code2desc(i, float(x)))"
   ]
  },
  {
   "cell_type": "code",
   "execution_count": 72,
   "metadata": {
    "collapsed": false
   },
   "outputs": [],
   "source": [
    "merged_data.to_csv('maryland_accident_dataset.csv', index=False)"
   ]
  }
 ],
 "metadata": {
  "kernelspec": {
   "display_name": "Python [default]",
   "language": "python",
   "name": "python3"
  },
  "language_info": {
   "codemirror_mode": {
    "name": "ipython",
    "version": 3
   },
   "file_extension": ".py",
   "mimetype": "text/x-python",
   "name": "python",
   "nbconvert_exporter": "python",
   "pygments_lexer": "ipython3",
   "version": "3.4.3"
  }
 },
 "nbformat": 4,
 "nbformat_minor": 0
}
