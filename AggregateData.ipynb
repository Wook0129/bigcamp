{
 "cells": [
  {
   "cell_type": "code",
   "execution_count": 1,
   "metadata": {
    "collapsed": true
   },
   "outputs": [],
   "source": [
    "import pandas as pd\n",
    "import numpy as np"
   ]
  },
  {
   "cell_type": "markdown",
   "metadata": {},
   "source": [
    "#### 수작업으로 변수 선택. 명세서가 부실한 변수와 NA가 많은 변수는 제거"
   ]
  },
  {
   "cell_type": "code",
   "execution_count": 3,
   "metadata": {
    "collapsed": false
   },
   "outputs": [],
   "source": [
    "accident_data = []\n",
    "person_data = []\n",
    "vehicle_data = []\n",
    "for q in [1,2,3,4]:\n",
    "    accident_data.append(pd.read_excel('data/Crash_Qtr0'+str(q)+'_2015.xlsx', sheetname = 0))\n",
    "    person_data.append(pd.read_excel('data/Crash_Qtr0'+str(q)+'_2015.xlsx', sheetname = 1))\n",
    "    vehicle_data.append(pd.read_excel('data/Crash_Qtr0'+str(q)+'_2015.xlsx', sheetname = 2))"
   ]
  },
  {
   "cell_type": "code",
   "execution_count": 4,
   "metadata": {
    "collapsed": false
   },
   "outputs": [],
   "source": [
    "accidents = pd.concat(accident_data).reset_index(drop=True)\n",
    "persons = pd.concat(person_data).reset_index(drop=True)\n",
    "vehicles = pd.concat(vehicle_data).reset_index(drop=True)"
   ]
  },
  {
   "cell_type": "code",
   "execution_count": 7,
   "metadata": {
    "collapsed": false
   },
   "outputs": [
    {
     "data": {
      "text/plain": [
       "ACC_DATE                object\n",
       "ACC_TIME                object\n",
       "AGENCY_CODE             object\n",
       "AREA_CODE               object\n",
       "COLLISION_TYPE_CODE      int64\n",
       "COUNTY_NO              float64\n",
       "C_M_ZONE_FLAG           object\n",
       "DISTANCE               float64\n",
       "DISTANCE_DIR_FLAG       object\n",
       "FEET_MILES_FLAG         object\n",
       "FIX_OBJ_CODE           float64\n",
       "HARM_EVENT_CODE1       float64\n",
       "HARM_EVENT_CODE2       float64\n",
       "JUNCTION_CODE          float64\n",
       "LANE_CODE              float64\n",
       "LATITUDE               float64\n",
       "LIGHT_CODE             float64\n",
       "LOC_CODE                object\n",
       "LOGMILE_DIR_FLAG        object\n",
       "LOG_MILE               float64\n",
       "LONGITUDE              float64\n",
       "MAINROAD_NAME           object\n",
       "MUNI_CODE              float64\n",
       "RD_COND_CODE           float64\n",
       "RD_DIV_CODE            float64\n",
       "REFERENCE_NO           float64\n",
       "REFERENCE_ROAD_NAME     object\n",
       "REFERENCE_SUFFIX        object\n",
       "REFERENCE_TYPE_CODE     object\n",
       "REPORT_NO               object\n",
       "ROUTE_TYPE_CODE         object\n",
       "RTE_NO                 float64\n",
       "RTE_SUFFIX              object\n",
       "SIGNAL_FLAG             object\n",
       "SURF_COND_CODE         float64\n",
       "WEATHER_CODE           float64\n",
       "dtype: object"
      ]
     },
     "execution_count": 7,
     "metadata": {},
     "output_type": "execute_result"
    }
   ],
   "source": [
    "accidents.dtypes"
   ]
  },
  {
   "cell_type": "code",
   "execution_count": 8,
   "metadata": {
    "collapsed": false
   },
   "outputs": [
    {
     "data": {
      "text/plain": [
       "ALCOHOL_TESTTYPE_CODE    float64\n",
       "ALCOHOL_TEST_CODE        float64\n",
       "BAC_CODE                 float64\n",
       "CDL_FLAG                  object\n",
       "CLASS                     object\n",
       "CONDITION_CODE           float64\n",
       "DATE_OF_BIRTH             object\n",
       "DRUG_TESTRESULT_CODE      object\n",
       "DRUG_TEST_CODE           float64\n",
       "EJECT_CODE               float64\n",
       "EMS_UNIT_LABEL            object\n",
       "EQUIP_PROB_CODE          float64\n",
       "FAULT_FLAG                object\n",
       "INJ_SEVER_CODE             int64\n",
       "LICENSE_STATE_CODE        object\n",
       "MOVEMENT_CODE            float64\n",
       "OCC_SEAT_POS_CODE        float64\n",
       "PED_LOCATION_CODE        float64\n",
       "PED_OBEY_CODE            float64\n",
       "PED_TYPE_CODE            float64\n",
       "PED_VISIBLE_CODE         float64\n",
       "PERSON_ID                 object\n",
       "PERSON_TYPE               object\n",
       "REPORT_NO                 object\n",
       "SAF_EQUIP_CODE           float64\n",
       "SEX_CODE                  object\n",
       "VEHICLE_ID                object\n",
       "dtype: object"
      ]
     },
     "execution_count": 8,
     "metadata": {},
     "output_type": "execute_result"
    }
   ],
   "source": [
    "persons.dtypes"
   ]
  },
  {
   "cell_type": "code",
   "execution_count": 9,
   "metadata": {
    "collapsed": false
   },
   "outputs": [
    {
     "data": {
      "text/plain": [
       "AREA_DAMAGED_CODE1           float64\n",
       "AREA_DAMAGED_CODE2           float64\n",
       "AREA_DAMAGED_CODE3           float64\n",
       "AREA_DAMAGED_CODE_IMP1       float64\n",
       "AREA_DAMAGED_CODE_MAIN       float64\n",
       "BODY_TYPE_CODE               float64\n",
       "COMMERCIAL_FLAG               object\n",
       "CONTI_DIRECTION_CODE          object\n",
       "CV_BODY_TYPE_CODE            float64\n",
       "DAMAGE_CODE                    int64\n",
       "DRIVERLESS_FLAG               object\n",
       "FIRE_FLAG                     object\n",
       "GOING_DIRECTION_CODE          object\n",
       "GVW_CODE                     float64\n",
       "HARM_EVENT_CODE              float64\n",
       "HAZMAT_SPILL_FLAG             object\n",
       "HIT_AND_RUN_FLAG              object\n",
       "HZM_NUM                       object\n",
       "MOVEMENT_CODE                float64\n",
       "NUM_AXLES                    float64\n",
       "PARKED_FLAG                   object\n",
       "REPORT_NO                     object\n",
       "SPEED_LIMIT                  float64\n",
       "TOWED_AWAY_FLAG               object\n",
       "TOWED_VEHICLE_CONFIG_CODE    float64\n",
       "VEHICLE_ID                    object\n",
       "VEH_MAKE                      object\n",
       "VEH_MODEL                     object\n",
       "VEH_YEAR                     float64\n",
       "VIN_NO                        object\n",
       "dtype: object"
      ]
     },
     "execution_count": 9,
     "metadata": {},
     "output_type": "execute_result"
    }
   ],
   "source": [
    "vehicles.dtypes"
   ]
  },
  {
   "cell_type": "markdown",
   "metadata": {},
   "source": [
    "## 불필요한 변수 제거"
   ]
  },
  {
   "cell_type": "code",
   "execution_count": 4,
   "metadata": {
    "collapsed": false
   },
   "outputs": [],
   "source": [
    "merged_data = pd.merge(persons, accidents, how='inner',on='REPORT_NO')\n",
    "merged_data = pd.merge(merged_data, vehicles, how='left',on=\"VEHICLE_ID\")\n",
    "merged_data.drop('REPORT_NO_y', axis=1, inplace=True)\n",
    "merged_data.rename(columns = {'REPORT_NO_x' : 'REPORT_NO'}, inplace = True)"
   ]
  },
  {
   "cell_type": "code",
   "execution_count": 5,
   "metadata": {
    "collapsed": true
   },
   "outputs": [],
   "source": [
    "merged_data.drop('HARM_EVENT_CODE', axis=1, inplace=True)\n",
    "merged_data.drop('HARM_EVENT_CODE1', axis=1, inplace=True)\n",
    "merged_data.drop('HARM_EVENT_CODE2', axis=1, inplace=True)\n",
    "merged_data.drop('FIX_OBJ_CODE', axis=1, inplace=True)\n",
    "merged_data.drop('DRUG_TEST_CODE', axis=1, inplace=True)\n",
    "merged_data.drop('ALCOHOL_TEST_CODE', axis=1, inplace=True)\n",
    "merged_data.drop('VEH_MAKE', axis=1, inplace=True)\n",
    "merged_data.drop('EJECT_CODE', axis=1, inplace=True)\n",
    "\n",
    "data.drop('COMMERCIAL_FLAG', axis=1, inplace=True)\n",
    "data.drop('SIGNAL_FLAG', axis=1, inplace=True)"
   ]
  },
  {
   "cell_type": "code",
   "execution_count": null,
   "metadata": {
    "collapsed": true
   },
   "outputs": [],
   "source": []
  },
  {
   "cell_type": "markdown",
   "metadata": {},
   "source": [
    "## 사고 발생 일시 관련 변수 통합"
   ]
  },
  {
   "cell_type": "code",
   "execution_count": 6,
   "metadata": {
    "collapsed": true
   },
   "outputs": [],
   "source": [
    "merged_data['TIME'] = pd.to_datetime(merged_data.ACC_DATE + ' ' + merged_data.ACC_TIME)\n",
    "merged_data.drop('ACC_DATE', axis=1, inplace=True)\n",
    "merged_data.drop('ACC_TIME', axis=1, inplace=True)"
   ]
  },
  {
   "cell_type": "markdown",
   "metadata": {},
   "source": [
    "## 나이 변수 생성. (Noise 제거를 위해 16세 이상, 90세 이하만 분석)"
   ]
  },
  {
   "cell_type": "code",
   "execution_count": 7,
   "metadata": {
    "collapsed": false
   },
   "outputs": [],
   "source": [
    "merged_data['AGE'] = merged_data.DATE_OF_BIRTH.apply(lambda x : 100 - int(str(x)[-2:]) + 15 if type(x) == str else x)\n",
    "merged_data = merged_data.loc[np.array(merged_data.AGE >= 16) & np.array(merged_data.AGE <= 90)]\n",
    "merged_data.drop('DATE_OF_BIRTH', axis=1, inplace=True)"
   ]
  },
  {
   "cell_type": "code",
   "execution_count": 8,
   "metadata": {
    "collapsed": false
   },
   "outputs": [
    {
     "data": {
      "text/plain": [
       "(200118, 29)"
      ]
     },
     "execution_count": 8,
     "metadata": {},
     "output_type": "execute_result"
    }
   ],
   "source": [
    "merged_data.shape"
   ]
  },
  {
   "cell_type": "code",
   "execution_count": 10,
   "metadata": {
    "collapsed": true
   },
   "outputs": [],
   "source": [
    "merged_data.to_csv('data2distribute.csv', index=False)"
   ]
  },
  {
   "cell_type": "markdown",
   "metadata": {
    "collapsed": true
   },
   "source": [
    "# 변수값 코드북 참조해서 바꾸는거 여기서"
   ]
  },
  {
   "cell_type": "markdown",
   "metadata": {},
   "source": [
    "## Step1_2의 내용"
   ]
  },
  {
   "cell_type": "code",
   "execution_count": null,
   "metadata": {
    "collapsed": true
   },
   "outputs": [],
   "source": []
  }
 ],
 "metadata": {
  "kernelspec": {
   "display_name": "Python 3",
   "language": "python",
   "name": "python3"
  },
  "language_info": {
   "codemirror_mode": {
    "name": "ipython",
    "version": 3
   },
   "file_extension": ".py",
   "mimetype": "text/x-python",
   "name": "python",
   "nbconvert_exporter": "python",
   "pygments_lexer": "ipython3",
   "version": "3.5.1"
  }
 },
 "nbformat": 4,
 "nbformat_minor": 0
}
